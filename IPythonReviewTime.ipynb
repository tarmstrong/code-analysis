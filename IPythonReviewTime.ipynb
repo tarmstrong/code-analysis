{
 "metadata": {
  "name": ""
 },
 "nbformat": 3,
 "nbformat_minor": 0,
 "worksheets": [
  {
   "cells": [
    {
     "cell_type": "markdown",
     "metadata": {},
     "source": [
      "# How Long Does It Take To Review an IPython Pull Request?"
     ]
    },
    {
     "cell_type": "markdown",
     "metadata": {},
     "source": [
      "by [Tavish Armstrong](http://tavisharmstrong.com)"
     ]
    },
    {
     "cell_type": "markdown",
     "metadata": {},
     "source": [
      "Fernando Perez [wrote](https://twitter.com/fperez_org/status/383739057651466240):\n",
      "\n",
      "> IPython: 8 minutes from bug on my box to reviewed/merged PR. We're doing something right... https://github.com/ipython/ipython/pull/4294\n",
      "\n",
      "This got me thinking: how long does it usually take to do a review on the IPython project?"
     ]
    },
    {
     "cell_type": "code",
     "collapsed": false,
     "input": [
      "import pandas as pd\n",
      "import json\n",
      "import itertools\n",
      "import collections\n",
      "import re\n",
      "import arrow\n",
      "rcParams['figure.figsize'] = (15, 3)"
     ],
     "language": "python",
     "metadata": {},
     "outputs": [],
     "prompt_number": 1
    },
    {
     "cell_type": "markdown",
     "metadata": {},
     "source": [
      "I recently released a python package called [git2json](https://github.com/tarmstrong/git2json) for parsing git logs. It isn't well written, but it does what it says on the tin."
     ]
    },
    {
     "cell_type": "code",
     "collapsed": false,
     "input": [
      "!git2json --git-dir=/home/tavish/code/ipython/.git > ipython-log.json"
     ],
     "language": "python",
     "metadata": {},
     "outputs": [],
     "prompt_number": 2
    },
    {
     "cell_type": "markdown",
     "metadata": {},
     "source": [
      "We can parse the resulting JSON file and take a peek at the data structure."
     ]
    },
    {
     "cell_type": "code",
     "collapsed": false,
     "input": [
      "log = json.load(open('ipython-log.json'))\n",
      "print log[0]\n"
     ],
     "language": "python",
     "metadata": {},
     "outputs": [
      {
       "output_type": "stream",
       "stream": "stdout",
       "text": [
        "{u'committer': {u'date': 1380325308, u'timezone': u'-0700', u'name': u'Fernando Perez', u'email': u'fernando.perez@berkeley.edu'}, u'author': {u'date': 1380325308, u'timezone': u'-0700', u'name': u'Fernando Perez', u'email': u'fernando.perez@berkeley.edu'}, u'tree': u'ea7fbb2694175423d776f649104ba42520db7cea', u'parents': [u'795c9e30ee8ad2e1a4e780c439fc50b565670e26', u'796a90bdeef377041c353019fdae19aaa72a76d3'], u'commit': u'b8295e9af6745b9c466d11bb31a6eef221e231c1', u'message': u\"Merge pull request #4294 from minrk/tornado-2don't require tornado 3 in `--post serve`\", u'changes': []}\n"
       ]
      }
     ],
     "prompt_number": 3
    },
    {
     "cell_type": "code",
     "collapsed": false,
     "input": [
      "print \"Number of commits = \", len(log)"
     ],
     "language": "python",
     "metadata": {},
     "outputs": [
      {
       "output_type": "stream",
       "stream": "stdout",
       "text": [
        "Number of commits =  12382\n"
       ]
      }
     ],
     "prompt_number": 4
    },
    {
     "cell_type": "markdown",
     "metadata": {},
     "source": [
      "Before we answer the question posed at the beginning of this article, I'll answer some easier questions. First off: which files in IPython have been committed to the most? This is a simplified version of \"code churn\" which is [reasonably](https://research.microsoft.com/apps/pubs/default.aspx?id=69126) [effective](http://google-engtools.blogspot.ca/2011/12/bug-prediction-at-google.html) for predicting bugs. (More complicated models include lines modified or [take semantic differences into account](http://dl.acm.org/citation.cfm?id=1985456)). Since this is Friday night and I'm not trying to get a paper into ICSE, I'll just take the number of commits for each `.py` file."
     ]
    },
    {
     "cell_type": "code",
     "collapsed": false,
     "input": [
      "file_changes = lambda: itertools.chain.from_iterable(\n",
      "    [change[2] for change in commit['changes'] if re.match(r'^.*\\.py$', change[2])]\n",
      "    for commit in log\n",
      ")"
     ],
     "language": "python",
     "metadata": {},
     "outputs": [],
     "prompt_number": 5
    },
    {
     "cell_type": "code",
     "collapsed": false,
     "input": [
      "rcParams['figure.figsize'] = (15, 6)\n",
      "fchanges = file_changes()\n",
      "fchange_count = collections.Counter(fchanges)\n",
      "a = average(fchange_count.values())\n",
      "most_common = fchange_count.most_common(20)\n",
      "df = pd.DataFrame(most_common)\n",
      "df.head()\n",
      "df.index = df[0]\n",
      "df = df[[1]]\n",
      "df.head()\n",
      "p = df.plot(kind='bar', legend=False)\n",
      "p.set_title('Most-changed Files in IPython')\n",
      "p.set_ylabel('Commits')\n",
      "# Draw a red line at the average\n",
      "hlines(a, 0, len(df), colors='r')\n"
     ],
     "language": "python",
     "metadata": {},
     "outputs": [
      {
       "metadata": {},
       "output_type": "pyout",
       "prompt_number": 6,
       "text": [
        "<matplotlib.collections.LineCollection at 0x8f86f50>"
       ]
      },
      {
       "metadata": {},
       "output_type": "display_data",
       "png": "[encoded data removed]",
       "text": [
        "<matplotlib.figure.Figure at 0x8e98910>"
       ]
      }
     ],
     "prompt_number": 6
    },
    {
     "cell_type": "markdown",
     "metadata": {},
     "source": [
      "Someone more familiar with IPython development will know how obvious the above graph is.\n",
      "\n",
      "Next, I'll make a simple plot showing weekly commit counts over time, similar to the plots GitHub would show you. I'll create a data frame from a list in the format `[(date_rounded_down_to_week, commit_id)]` and then `groupby()` the date."
     ]
    },
    {
     "cell_type": "code",
     "collapsed": false,
     "input": [
      "def weekly_date_resolution(ts):\n",
      "    ar = arrow.arrow(ts)\n",
      "    day_of_month = ar.timetuple().tm_mday\n",
      "    week = int(day_of_month) / 7\n",
      "    new_day = (week*7)+1\n",
      "    assert new_day > 0\n",
      "    assert new_day < 30\n",
      "    try:\n",
      "        day_adjusted = ar.replace(day=new_day)\n",
      "    except ValueError:\n",
      "        new_day = day_of_month # just keep the original\n",
      "        day_adjusted = ar.replace(day=new_day)\n",
      "    return day_adjusted.date()\n",
      "\n",
      "commit_times = lambda: (\n",
      "    (weekly_date_resolution(commit['committer']['date']), commit['commit'])\n",
      "    for commit in log\n",
      ")\n",
      "dfct = pd.DataFrame(list(commit_times()), columns=['date', 'id'])\n",
      "dfct = dfct.groupby('date').aggregate(len)\n",
      "dfct.head()\n"
     ],
     "language": "python",
     "metadata": {},
     "outputs": [
      {
       "html": [
        "<div style=\"max-height:1000px;max-width:1500px;overflow:auto;\">\n",
        "<table border=\"1\" class=\"dataframe\">\n",
        "  <thead>\n",
        "    <tr style=\"text-align: right;\">\n",
        "      <th></th>\n",
        "      <th>id</th>\n",
        "    </tr>\n",
        "    <tr>\n",
        "      <th>date</th>\n",
        "      <th></th>\n",
        "    </tr>\n",
        "  </thead>\n",
        "  <tbody>\n",
        "    <tr>\n",
        "      <th>2005-07-01</th>\n",
        "      <td> 1</td>\n",
        "    </tr>\n",
        "    <tr>\n",
        "      <th>2005-07-15</th>\n",
        "      <td> 6</td>\n",
        "    </tr>\n",
        "    <tr>\n",
        "      <th>2005-08-08</th>\n",
        "      <td> 2</td>\n",
        "    </tr>\n",
        "    <tr>\n",
        "      <th>2005-08-15</th>\n",
        "      <td> 4</td>\n",
        "    </tr>\n",
        "    <tr>\n",
        "      <th>2005-08-22</th>\n",
        "      <td> 1</td>\n",
        "    </tr>\n",
        "  </tbody>\n",
        "</table>\n",
        "</div>"
       ],
       "metadata": {},
       "output_type": "pyout",
       "prompt_number": 7,
       "text": [
        "            id\n",
        "date          \n",
        "2005-07-01   1\n",
        "2005-07-15   6\n",
        "2005-08-08   2\n",
        "2005-08-15   4\n",
        "2005-08-22   1"
       ]
      }
     ],
     "prompt_number": 7
    },
    {
     "cell_type": "markdown",
     "metadata": {},
     "source": [
      "A few more lines gives us a basic plot."
     ]
    },
    {
     "cell_type": "code",
     "collapsed": false,
     "input": [
      "p = dfct.plot(legend=False)\n",
      "p.set_title('Weekly commits on IPython')\n",
      "p.set_ylabel('Commits')"
     ],
     "language": "python",
     "metadata": {},
     "outputs": [
      {
       "metadata": {},
       "output_type": "pyout",
       "prompt_number": 8,
       "text": [
        "<matplotlib.text.Text at 0x8f83b10>"
       ]
      },
      {
       "metadata": {},
       "output_type": "display_data",
       "png": "[encoded data removed]",
       "text": [
        "<matplotlib.figure.Figure at 0x8f7e110>"
       ]
      }
     ],
     "prompt_number": 8
    },
    {
     "cell_type": "markdown",
     "metadata": {},
     "source": [
      "Let's get back to the original question: *how long does it usually take to do a review?*\n",
      "\n",
      "I'll make a distinction between two different kinds of commits:\n",
      "\n",
      "* **Merge commits**: The commit that merged the pull request branch into the main branch.\n",
      "* **PR commits**: The `HEAD` (or most recent) commit on the pull request's source branch."
     ]
    },
    {
     "cell_type": "code",
     "collapsed": false,
     "input": [
      "def is_pull_request_merge(message):\n",
      "    '''Match commit messages that start with \"Merge pull request #\"'''\n",
      "    return re.match(r'^Merge pull request #', message)\n",
      "\n",
      "\n",
      "def pull_request_number(message):\n",
      "    '''Extract the PR # from the commit message.'''\n",
      "    return int(re.match(r'^Merge pull request #(\\d+)', message).groups()[0])\n",
      "\n",
      "\n",
      "# Create a table for the merge commits.\n",
      "merge_commits = [\n",
      "    [\n",
      "        commit['parents'][1], # the second parent seems to be the source branch\n",
      "        commit['committer']['date'],\n",
      "        pull_request_number(commit['message']),\n",
      "    ]\n",
      "    for commit in log if is_pull_request_merge(commit['message'])\n",
      "]\n",
      "# Also create a set of merge commits for use in the next cell.\n",
      "merge_commit_parent_ids = [mc[0] for mc in merge_commits]\n",
      "merge_df = pd.DataFrame(\n",
      "    merge_commits,\n",
      "    columns=['merge_commit', 'merge_timestamp', 'pr'],\n",
      "    index=merge_commit_parent_ids,\n",
      ")\n",
      "merge_df.head()"
     ],
     "language": "python",
     "metadata": {},
     "outputs": [
      {
       "html": [
        "<div style=\"max-height:1000px;max-width:1500px;overflow:auto;\">\n",
        "<table border=\"1\" class=\"dataframe\">\n",
        "  <thead>\n",
        "    <tr style=\"text-align: right;\">\n",
        "      <th></th>\n",
        "      <th>merge_commit</th>\n",
        "      <th>merge_timestamp</th>\n",
        "      <th>pr</th>\n",
        "    </tr>\n",
        "  </thead>\n",
        "  <tbody>\n",
        "    <tr>\n",
        "      <th>796a90bdeef377041c353019fdae19aaa72a76d3</th>\n",
        "      <td> 796a90bdeef377041c353019fdae19aaa72a76d3</td>\n",
        "      <td> 1380325308</td>\n",
        "      <td> 4294</td>\n",
        "    </tr>\n",
        "    <tr>\n",
        "      <th>b0d6287174b62de9b89190b868317d12b5bc4ae4</th>\n",
        "      <td> b0d6287174b62de9b89190b868317d12b5bc4ae4</td>\n",
        "      <td> 1380323422</td>\n",
        "      <td> 4270</td>\n",
        "    </tr>\n",
        "    <tr>\n",
        "      <th>07b4962bd787068896f0e2b5dfb977441c7b391a</th>\n",
        "      <td> 07b4962bd787068896f0e2b5dfb977441c7b391a</td>\n",
        "      <td> 1380301596</td>\n",
        "      <td> 4278</td>\n",
        "    </tr>\n",
        "    <tr>\n",
        "      <th>e51d4d021c57c846ff1ad439d20b3fcc6b1ebc77</th>\n",
        "      <td> e51d4d021c57c846ff1ad439d20b3fcc6b1ebc77</td>\n",
        "      <td> 1380271407</td>\n",
        "      <td> 4282</td>\n",
        "    </tr>\n",
        "    <tr>\n",
        "      <th>68b0f9d2d5f29c540f7873141cb09026c492d0ef</th>\n",
        "      <td> 68b0f9d2d5f29c540f7873141cb09026c492d0ef</td>\n",
        "      <td> 1380215023</td>\n",
        "      <td> 4279</td>\n",
        "    </tr>\n",
        "  </tbody>\n",
        "</table>\n",
        "</div>"
       ],
       "metadata": {},
       "output_type": "pyout",
       "prompt_number": 9,
       "text": [
        "                                                                      merge_commit  \\\n",
        "796a90bdeef377041c353019fdae19aaa72a76d3  796a90bdeef377041c353019fdae19aaa72a76d3   \n",
        "b0d6287174b62de9b89190b868317d12b5bc4ae4  b0d6287174b62de9b89190b868317d12b5bc4ae4   \n",
        "07b4962bd787068896f0e2b5dfb977441c7b391a  07b4962bd787068896f0e2b5dfb977441c7b391a   \n",
        "e51d4d021c57c846ff1ad439d20b3fcc6b1ebc77  e51d4d021c57c846ff1ad439d20b3fcc6b1ebc77   \n",
        "68b0f9d2d5f29c540f7873141cb09026c492d0ef  68b0f9d2d5f29c540f7873141cb09026c492d0ef   \n",
        "\n",
        "                                          merge_timestamp    pr  \n",
        "796a90bdeef377041c353019fdae19aaa72a76d3       1380325308  4294  \n",
        "b0d6287174b62de9b89190b868317d12b5bc4ae4       1380323422  4270  \n",
        "07b4962bd787068896f0e2b5dfb977441c7b391a       1380301596  4278  \n",
        "e51d4d021c57c846ff1ad439d20b3fcc6b1ebc77       1380271407  4282  \n",
        "68b0f9d2d5f29c540f7873141cb09026c492d0ef       1380215023  4279  "
       ]
      }
     ],
     "prompt_number": 9
    },
    {
     "cell_type": "code",
     "collapsed": false,
     "input": [
      "# Create a table for pull request commits.\n",
      "pr_commits = [\n",
      "    [\n",
      "        commit['commit'],\n",
      "        commit['committer']['date'],\n",
      "        len(commit['changes']), # let's sneak in another basic churn metric\n",
      "    ]\n",
      "    for commit in log\n",
      "    # Do we have a merge commit for this commit?\n",
      "    if commit['commit'] in merge_commit_parent_ids\n",
      "]\n",
      "commit_ids = [prc[0] for prc in pr_commits]\n",
      "pr_df = pd.DataFrame(pr_commits, columns=['commit', 'commit_timestamp', 'churn'], index=commit_ids)\n",
      "pr_df.head()"
     ],
     "language": "python",
     "metadata": {},
     "outputs": [
      {
       "html": [
        "<div style=\"max-height:1000px;max-width:1500px;overflow:auto;\">\n",
        "<table border=\"1\" class=\"dataframe\">\n",
        "  <thead>\n",
        "    <tr style=\"text-align: right;\">\n",
        "      <th></th>\n",
        "      <th>commit</th>\n",
        "      <th>commit_timestamp</th>\n",
        "      <th>churn</th>\n",
        "    </tr>\n",
        "  </thead>\n",
        "  <tbody>\n",
        "    <tr>\n",
        "      <th>796a90bdeef377041c353019fdae19aaa72a76d3</th>\n",
        "      <td> 796a90bdeef377041c353019fdae19aaa72a76d3</td>\n",
        "      <td> 1380325245</td>\n",
        "      <td> 1</td>\n",
        "    </tr>\n",
        "    <tr>\n",
        "      <th>e51d4d021c57c846ff1ad439d20b3fcc6b1ebc77</th>\n",
        "      <td> e51d4d021c57c846ff1ad439d20b3fcc6b1ebc77</td>\n",
        "      <td> 1380162595</td>\n",
        "      <td> 1</td>\n",
        "    </tr>\n",
        "    <tr>\n",
        "      <th>68b0f9d2d5f29c540f7873141cb09026c492d0ef</th>\n",
        "      <td> 68b0f9d2d5f29c540f7873141cb09026c492d0ef</td>\n",
        "      <td> 1380158115</td>\n",
        "      <td> 3</td>\n",
        "    </tr>\n",
        "    <tr>\n",
        "      <th>07b4962bd787068896f0e2b5dfb977441c7b391a</th>\n",
        "      <td> 07b4962bd787068896f0e2b5dfb977441c7b391a</td>\n",
        "      <td> 1380153904</td>\n",
        "      <td> 1</td>\n",
        "    </tr>\n",
        "    <tr>\n",
        "      <th>d4d6bc63d6c6dd34c5fe1270a90caec2e0208bfa</th>\n",
        "      <td> d4d6bc63d6c6dd34c5fe1270a90caec2e0208bfa</td>\n",
        "      <td> 1380099263</td>\n",
        "      <td> 1</td>\n",
        "    </tr>\n",
        "  </tbody>\n",
        "</table>\n",
        "</div>"
       ],
       "metadata": {},
       "output_type": "pyout",
       "prompt_number": 10,
       "text": [
        "                                                                            commit  \\\n",
        "796a90bdeef377041c353019fdae19aaa72a76d3  796a90bdeef377041c353019fdae19aaa72a76d3   \n",
        "e51d4d021c57c846ff1ad439d20b3fcc6b1ebc77  e51d4d021c57c846ff1ad439d20b3fcc6b1ebc77   \n",
        "68b0f9d2d5f29c540f7873141cb09026c492d0ef  68b0f9d2d5f29c540f7873141cb09026c492d0ef   \n",
        "07b4962bd787068896f0e2b5dfb977441c7b391a  07b4962bd787068896f0e2b5dfb977441c7b391a   \n",
        "d4d6bc63d6c6dd34c5fe1270a90caec2e0208bfa  d4d6bc63d6c6dd34c5fe1270a90caec2e0208bfa   \n",
        "\n",
        "                                          commit_timestamp  churn  \n",
        "796a90bdeef377041c353019fdae19aaa72a76d3        1380325245      1  \n",
        "e51d4d021c57c846ff1ad439d20b3fcc6b1ebc77        1380162595      1  \n",
        "68b0f9d2d5f29c540f7873141cb09026c492d0ef        1380158115      3  \n",
        "07b4962bd787068896f0e2b5dfb977441c7b391a        1380153904      1  \n",
        "d4d6bc63d6c6dd34c5fe1270a90caec2e0208bfa        1380099263      1  "
       ]
      }
     ],
     "prompt_number": 10
    },
    {
     "cell_type": "markdown",
     "metadata": {},
     "source": [
      "Now that we have these two data frames, we can merge them together."
     ]
    },
    {
     "cell_type": "code",
     "collapsed": false,
     "input": [
      "both_df = pr_df.join(merge_df)\n",
      "both_df.head()"
     ],
     "language": "python",
     "metadata": {},
     "outputs": [
      {
       "html": [
        "<div style=\"max-height:1000px;max-width:1500px;overflow:auto;\">\n",
        "<table border=\"1\" class=\"dataframe\">\n",
        "  <thead>\n",
        "    <tr style=\"text-align: right;\">\n",
        "      <th></th>\n",
        "      <th>commit</th>\n",
        "      <th>commit_timestamp</th>\n",
        "      <th>churn</th>\n",
        "      <th>merge_commit</th>\n",
        "      <th>merge_timestamp</th>\n",
        "      <th>pr</th>\n",
        "    </tr>\n",
        "  </thead>\n",
        "  <tbody>\n",
        "    <tr>\n",
        "      <th>796a90bdeef377041c353019fdae19aaa72a76d3</th>\n",
        "      <td> 796a90bdeef377041c353019fdae19aaa72a76d3</td>\n",
        "      <td> 1380325245</td>\n",
        "      <td> 1</td>\n",
        "      <td> 796a90bdeef377041c353019fdae19aaa72a76d3</td>\n",
        "      <td> 1380325308</td>\n",
        "      <td> 4294</td>\n",
        "    </tr>\n",
        "    <tr>\n",
        "      <th>e51d4d021c57c846ff1ad439d20b3fcc6b1ebc77</th>\n",
        "      <td> e51d4d021c57c846ff1ad439d20b3fcc6b1ebc77</td>\n",
        "      <td> 1380162595</td>\n",
        "      <td> 1</td>\n",
        "      <td> e51d4d021c57c846ff1ad439d20b3fcc6b1ebc77</td>\n",
        "      <td> 1380271407</td>\n",
        "      <td> 4282</td>\n",
        "    </tr>\n",
        "    <tr>\n",
        "      <th>68b0f9d2d5f29c540f7873141cb09026c492d0ef</th>\n",
        "      <td> 68b0f9d2d5f29c540f7873141cb09026c492d0ef</td>\n",
        "      <td> 1380158115</td>\n",
        "      <td> 3</td>\n",
        "      <td> 68b0f9d2d5f29c540f7873141cb09026c492d0ef</td>\n",
        "      <td> 1380215023</td>\n",
        "      <td> 4279</td>\n",
        "    </tr>\n",
        "    <tr>\n",
        "      <th>07b4962bd787068896f0e2b5dfb977441c7b391a</th>\n",
        "      <td> 07b4962bd787068896f0e2b5dfb977441c7b391a</td>\n",
        "      <td> 1380153904</td>\n",
        "      <td> 1</td>\n",
        "      <td> 07b4962bd787068896f0e2b5dfb977441c7b391a</td>\n",
        "      <td> 1380301596</td>\n",
        "      <td> 4278</td>\n",
        "    </tr>\n",
        "    <tr>\n",
        "      <th>d4d6bc63d6c6dd34c5fe1270a90caec2e0208bfa</th>\n",
        "      <td> d4d6bc63d6c6dd34c5fe1270a90caec2e0208bfa</td>\n",
        "      <td> 1380099263</td>\n",
        "      <td> 1</td>\n",
        "      <td> d4d6bc63d6c6dd34c5fe1270a90caec2e0208bfa</td>\n",
        "      <td> 1380149814</td>\n",
        "      <td> 4131</td>\n",
        "    </tr>\n",
        "  </tbody>\n",
        "</table>\n",
        "</div>"
       ],
       "metadata": {},
       "output_type": "pyout",
       "prompt_number": 11,
       "text": [
        "                                                                            commit  \\\n",
        "796a90bdeef377041c353019fdae19aaa72a76d3  796a90bdeef377041c353019fdae19aaa72a76d3   \n",
        "e51d4d021c57c846ff1ad439d20b3fcc6b1ebc77  e51d4d021c57c846ff1ad439d20b3fcc6b1ebc77   \n",
        "68b0f9d2d5f29c540f7873141cb09026c492d0ef  68b0f9d2d5f29c540f7873141cb09026c492d0ef   \n",
        "07b4962bd787068896f0e2b5dfb977441c7b391a  07b4962bd787068896f0e2b5dfb977441c7b391a   \n",
        "d4d6bc63d6c6dd34c5fe1270a90caec2e0208bfa  d4d6bc63d6c6dd34c5fe1270a90caec2e0208bfa   \n",
        "\n",
        "                                          commit_timestamp  churn  \\\n",
        "796a90bdeef377041c353019fdae19aaa72a76d3        1380325245      1   \n",
        "e51d4d021c57c846ff1ad439d20b3fcc6b1ebc77        1380162595      1   \n",
        "68b0f9d2d5f29c540f7873141cb09026c492d0ef        1380158115      3   \n",
        "07b4962bd787068896f0e2b5dfb977441c7b391a        1380153904      1   \n",
        "d4d6bc63d6c6dd34c5fe1270a90caec2e0208bfa        1380099263      1   \n",
        "\n",
        "                                                                      merge_commit  \\\n",
        "796a90bdeef377041c353019fdae19aaa72a76d3  796a90bdeef377041c353019fdae19aaa72a76d3   \n",
        "e51d4d021c57c846ff1ad439d20b3fcc6b1ebc77  e51d4d021c57c846ff1ad439d20b3fcc6b1ebc77   \n",
        "68b0f9d2d5f29c540f7873141cb09026c492d0ef  68b0f9d2d5f29c540f7873141cb09026c492d0ef   \n",
        "07b4962bd787068896f0e2b5dfb977441c7b391a  07b4962bd787068896f0e2b5dfb977441c7b391a   \n",
        "d4d6bc63d6c6dd34c5fe1270a90caec2e0208bfa  d4d6bc63d6c6dd34c5fe1270a90caec2e0208bfa   \n",
        "\n",
        "                                          merge_timestamp    pr  \n",
        "796a90bdeef377041c353019fdae19aaa72a76d3       1380325308  4294  \n",
        "e51d4d021c57c846ff1ad439d20b3fcc6b1ebc77       1380271407  4282  \n",
        "68b0f9d2d5f29c540f7873141cb09026c492d0ef       1380215023  4279  \n",
        "07b4962bd787068896f0e2b5dfb977441c7b391a       1380301596  4278  \n",
        "d4d6bc63d6c6dd34c5fe1270a90caec2e0208bfa       1380149814  4131  "
       ]
      }
     ],
     "prompt_number": 11
    },
    {
     "cell_type": "markdown",
     "metadata": {},
     "source": [
      "We can take the *delta* by subtracting the merge timestamp from the commit timestamp. This is the difference between the commit-under-review's timestamp and the merge timestamp, in seconds. We can do some basic math to get the difference on other scales. The HTML version of the table shows the results."
     ]
    },
    {
     "cell_type": "code",
     "collapsed": false,
     "input": [
      "rcParams['figure.figsize'] = (5, 10)\n",
      "both_df['delta'] = both_df['merge_timestamp'] - both_df['commit_timestamp']\n",
      "delta = both_df['delta']\n",
      "both_df['delta_weeks'] = delta/60.0/60.0/24.0/7.0\n",
      "both_df['delta_days'] = delta/60.0/60.0/24.0\n",
      "both_df['delta_hours'] = delta/60.0/60.0\n",
      "both_df['delta_mins'] = delta/60.0\n",
      "both_df['delta_secs'] = delta\n",
      "both_df.head()"
     ],
     "language": "python",
     "metadata": {},
     "outputs": [
      {
       "html": [
        "<div style=\"max-height:1000px;max-width:1500px;overflow:auto;\">\n",
        "<table border=\"1\" class=\"dataframe\">\n",
        "  <thead>\n",
        "    <tr style=\"text-align: right;\">\n",
        "      <th></th>\n",
        "      <th>commit</th>\n",
        "      <th>commit_timestamp</th>\n",
        "      <th>churn</th>\n",
        "      <th>merge_commit</th>\n",
        "      <th>merge_timestamp</th>\n",
        "      <th>pr</th>\n",
        "      <th>delta</th>\n",
        "      <th>delta_weeks</th>\n",
        "      <th>delta_days</th>\n",
        "      <th>delta_hours</th>\n",
        "      <th>delta_mins</th>\n",
        "      <th>delta_secs</th>\n",
        "    </tr>\n",
        "  </thead>\n",
        "  <tbody>\n",
        "    <tr>\n",
        "      <th>796a90bdeef377041c353019fdae19aaa72a76d3</th>\n",
        "      <td> 796a90bdeef377041c353019fdae19aaa72a76d3</td>\n",
        "      <td> 1380325245</td>\n",
        "      <td> 1</td>\n",
        "      <td> 796a90bdeef377041c353019fdae19aaa72a76d3</td>\n",
        "      <td> 1380325308</td>\n",
        "      <td> 4294</td>\n",
        "      <td>     63</td>\n",
        "      <td> 0.000104</td>\n",
        "      <td> 0.000729</td>\n",
        "      <td>  0.017500</td>\n",
        "      <td>    1.050000</td>\n",
        "      <td>     63</td>\n",
        "    </tr>\n",
        "    <tr>\n",
        "      <th>e51d4d021c57c846ff1ad439d20b3fcc6b1ebc77</th>\n",
        "      <td> e51d4d021c57c846ff1ad439d20b3fcc6b1ebc77</td>\n",
        "      <td> 1380162595</td>\n",
        "      <td> 1</td>\n",
        "      <td> e51d4d021c57c846ff1ad439d20b3fcc6b1ebc77</td>\n",
        "      <td> 1380271407</td>\n",
        "      <td> 4282</td>\n",
        "      <td> 108812</td>\n",
        "      <td> 0.179914</td>\n",
        "      <td> 1.259398</td>\n",
        "      <td> 30.225556</td>\n",
        "      <td> 1813.533333</td>\n",
        "      <td> 108812</td>\n",
        "    </tr>\n",
        "    <tr>\n",
        "      <th>68b0f9d2d5f29c540f7873141cb09026c492d0ef</th>\n",
        "      <td> 68b0f9d2d5f29c540f7873141cb09026c492d0ef</td>\n",
        "      <td> 1380158115</td>\n",
        "      <td> 3</td>\n",
        "      <td> 68b0f9d2d5f29c540f7873141cb09026c492d0ef</td>\n",
        "      <td> 1380215023</td>\n",
        "      <td> 4279</td>\n",
        "      <td>  56908</td>\n",
        "      <td> 0.094094</td>\n",
        "      <td> 0.658657</td>\n",
        "      <td> 15.807778</td>\n",
        "      <td>  948.466667</td>\n",
        "      <td>  56908</td>\n",
        "    </tr>\n",
        "    <tr>\n",
        "      <th>07b4962bd787068896f0e2b5dfb977441c7b391a</th>\n",
        "      <td> 07b4962bd787068896f0e2b5dfb977441c7b391a</td>\n",
        "      <td> 1380153904</td>\n",
        "      <td> 1</td>\n",
        "      <td> 07b4962bd787068896f0e2b5dfb977441c7b391a</td>\n",
        "      <td> 1380301596</td>\n",
        "      <td> 4278</td>\n",
        "      <td> 147692</td>\n",
        "      <td> 0.244200</td>\n",
        "      <td> 1.709398</td>\n",
        "      <td> 41.025556</td>\n",
        "      <td> 2461.533333</td>\n",
        "      <td> 147692</td>\n",
        "    </tr>\n",
        "    <tr>\n",
        "      <th>d4d6bc63d6c6dd34c5fe1270a90caec2e0208bfa</th>\n",
        "      <td> d4d6bc63d6c6dd34c5fe1270a90caec2e0208bfa</td>\n",
        "      <td> 1380099263</td>\n",
        "      <td> 1</td>\n",
        "      <td> d4d6bc63d6c6dd34c5fe1270a90caec2e0208bfa</td>\n",
        "      <td> 1380149814</td>\n",
        "      <td> 4131</td>\n",
        "      <td>  50551</td>\n",
        "      <td> 0.083583</td>\n",
        "      <td> 0.585081</td>\n",
        "      <td> 14.041944</td>\n",
        "      <td>  842.516667</td>\n",
        "      <td>  50551</td>\n",
        "    </tr>\n",
        "  </tbody>\n",
        "</table>\n",
        "</div>"
       ],
       "metadata": {},
       "output_type": "pyout",
       "prompt_number": 12,
       "text": [
        "                                                                            commit  \\\n",
        "796a90bdeef377041c353019fdae19aaa72a76d3  796a90bdeef377041c353019fdae19aaa72a76d3   \n",
        "e51d4d021c57c846ff1ad439d20b3fcc6b1ebc77  e51d4d021c57c846ff1ad439d20b3fcc6b1ebc77   \n",
        "68b0f9d2d5f29c540f7873141cb09026c492d0ef  68b0f9d2d5f29c540f7873141cb09026c492d0ef   \n",
        "07b4962bd787068896f0e2b5dfb977441c7b391a  07b4962bd787068896f0e2b5dfb977441c7b391a   \n",
        "d4d6bc63d6c6dd34c5fe1270a90caec2e0208bfa  d4d6bc63d6c6dd34c5fe1270a90caec2e0208bfa   \n",
        "\n",
        "                                          commit_timestamp  churn  \\\n",
        "796a90bdeef377041c353019fdae19aaa72a76d3        1380325245      1   \n",
        "e51d4d021c57c846ff1ad439d20b3fcc6b1ebc77        1380162595      1   \n",
        "68b0f9d2d5f29c540f7873141cb09026c492d0ef        1380158115      3   \n",
        "07b4962bd787068896f0e2b5dfb977441c7b391a        1380153904      1   \n",
        "d4d6bc63d6c6dd34c5fe1270a90caec2e0208bfa        1380099263      1   \n",
        "\n",
        "                                                                      merge_commit  \\\n",
        "796a90bdeef377041c353019fdae19aaa72a76d3  796a90bdeef377041c353019fdae19aaa72a76d3   \n",
        "e51d4d021c57c846ff1ad439d20b3fcc6b1ebc77  e51d4d021c57c846ff1ad439d20b3fcc6b1ebc77   \n",
        "68b0f9d2d5f29c540f7873141cb09026c492d0ef  68b0f9d2d5f29c540f7873141cb09026c492d0ef   \n",
        "07b4962bd787068896f0e2b5dfb977441c7b391a  07b4962bd787068896f0e2b5dfb977441c7b391a   \n",
        "d4d6bc63d6c6dd34c5fe1270a90caec2e0208bfa  d4d6bc63d6c6dd34c5fe1270a90caec2e0208bfa   \n",
        "\n",
        "                                          merge_timestamp    pr   delta  \\\n",
        "796a90bdeef377041c353019fdae19aaa72a76d3       1380325308  4294      63   \n",
        "e51d4d021c57c846ff1ad439d20b3fcc6b1ebc77       1380271407  4282  108812   \n",
        "68b0f9d2d5f29c540f7873141cb09026c492d0ef       1380215023  4279   56908   \n",
        "07b4962bd787068896f0e2b5dfb977441c7b391a       1380301596  4278  147692   \n",
        "d4d6bc63d6c6dd34c5fe1270a90caec2e0208bfa       1380149814  4131   50551   \n",
        "\n",
        "                                          delta_weeks  delta_days  delta_hours  \\\n",
        "796a90bdeef377041c353019fdae19aaa72a76d3     0.000104    0.000729     0.017500   \n",
        "e51d4d021c57c846ff1ad439d20b3fcc6b1ebc77     0.179914    1.259398    30.225556   \n",
        "68b0f9d2d5f29c540f7873141cb09026c492d0ef     0.094094    0.658657    15.807778   \n",
        "07b4962bd787068896f0e2b5dfb977441c7b391a     0.244200    1.709398    41.025556   \n",
        "d4d6bc63d6c6dd34c5fe1270a90caec2e0208bfa     0.083583    0.585081    14.041944   \n",
        "\n",
        "                                           delta_mins  delta_secs  \n",
        "796a90bdeef377041c353019fdae19aaa72a76d3     1.050000          63  \n",
        "e51d4d021c57c846ff1ad439d20b3fcc6b1ebc77  1813.533333      108812  \n",
        "68b0f9d2d5f29c540f7873141cb09026c492d0ef   948.466667       56908  \n",
        "07b4962bd787068896f0e2b5dfb977441c7b391a  2461.533333      147692  \n",
        "d4d6bc63d6c6dd34c5fe1270a90caec2e0208bfa   842.516667       50551  "
       ]
      }
     ],
     "prompt_number": 12
    },
    {
     "cell_type": "markdown",
     "metadata": {},
     "source": [
      "The first thing that stands out is (as of this writing) commit `796a90bdeef3770` has a delta of one minute. Fernando reported 8 minutes, which is much more plausible. This makes me wonder if some people have out-of-date clocks. **Update: Fernando says that the review time was 1 minute; 8 minutes was from bug to pull request to commit.**\n",
      "\n",
      "Anyways, let's make a box plot. Box plots are fun."
     ]
    },
    {
     "cell_type": "code",
     "collapsed": false,
     "input": [
      "rcParams['figure.figsize'] = (15, 3)\n",
      "both_df[['delta_days']].boxplot(vert=False)"
     ],
     "language": "python",
     "metadata": {},
     "outputs": [
      {
       "metadata": {},
       "output_type": "pyout",
       "prompt_number": 13,
       "text": [
        "{'boxes': [<matplotlib.lines.Line2D at 0x9192fd0>],\n",
        " 'caps': [<matplotlib.lines.Line2D at 0x91925d0>,\n",
        "  <matplotlib.lines.Line2D at 0x9192ad0>],\n",
        " 'fliers': [<matplotlib.lines.Line2D at 0x9196a10>,\n",
        "  <matplotlib.lines.Line2D at 0x9196ed0>],\n",
        " 'medians': [<matplotlib.lines.Line2D at 0x9196510>],\n",
        " 'whiskers': [<matplotlib.lines.Line2D at 0x918ddd0>,\n",
        "  <matplotlib.lines.Line2D at 0x9192050>]}"
       ]
      },
      {
       "metadata": {},
       "output_type": "display_data",
       "png": "[encoded data removed]",
       "text": [
        "<matplotlib.figure.Figure at 0x9139b10>"
       ]
      }
     ],
     "prompt_number": 13
    },
    {
     "cell_type": "markdown",
     "metadata": {},
     "source": [
      "Based on this plot, we see that the IPython folks are pretty fast when it comes to reviewing and merging pull requests \u2014 the ones that get committed, anyways. There are some outliers, though: some take up to half a year before getting committed.\n",
      "\n",
      "We can filter out all of these ranges that are larger than a month and ask: if a review takes less than a month, how long is it likely to take?"
     ]
    },
    {
     "cell_type": "code",
     "collapsed": false,
     "input": [
      "rcParams['figure.figsize'] = (15, 3)\n",
      "both_df[both_df['delta_days'] < 30][['delta_days']].boxplot(vert=False)"
     ],
     "language": "python",
     "metadata": {},
     "outputs": [
      {
       "metadata": {},
       "output_type": "pyout",
       "prompt_number": 14,
       "text": [
        "{'boxes': [<matplotlib.lines.Line2D at 0x91e1710>],\n",
        " 'caps': [<matplotlib.lines.Line2D at 0x91d8cd0>,\n",
        "  <matplotlib.lines.Line2D at 0x91e1210>],\n",
        " 'fliers': [<matplotlib.lines.Line2D at 0x91e4150>,\n",
        "  <matplotlib.lines.Line2D at 0x91e4610>],\n",
        " 'medians': [<matplotlib.lines.Line2D at 0x91e1c10>],\n",
        " 'whiskers': [<matplotlib.lines.Line2D at 0x91d8510>,\n",
        "  <matplotlib.lines.Line2D at 0x91d8750>]}"
       ]
      },
      {
       "metadata": {},
       "output_type": "display_data",
       "png": "[encoded data removed]",
       "text": [
        "<matplotlib.figure.Figure at 0x91af190>"
       ]
      }
     ],
     "prompt_number": 14
    },
    {
     "cell_type": "markdown",
     "metadata": {},
     "source": [
      "Based on this, it looks like most reviews happen within the first five days. The median is (I'm eyeballing this) around 1 day. Not bad at all.\n",
      "\n",
      "If we look closely at the pull requests outside this range, we might see any number of things: pull requests that are large and hard to understand or pull requests that are blocked by some other task. I don't think pandas would help us much: we'd have to use our brains and look for patterns.\n",
      "\n",
      "OK, one more question. Can we see any relationship between the review time and the number of files modified by the last pull request commit? This is a sad way to do it \u2014 since I'm not taking into account all commits on a pull request, I'm missing a lot of useful information \u2014 but it might be fun."
     ]
    },
    {
     "cell_type": "code",
     "collapsed": false,
     "input": [
      "# The data is skewed, so i'll use the spearman correlation\n",
      "both_df[['churn', 'delta']].corr(method='spearman')\n"
     ],
     "language": "python",
     "metadata": {},
     "outputs": [
      {
       "html": [
        "<div style=\"max-height:1000px;max-width:1500px;overflow:auto;\">\n",
        "<table border=\"1\" class=\"dataframe\">\n",
        "  <thead>\n",
        "    <tr style=\"text-align: right;\">\n",
        "      <th></th>\n",
        "      <th>churn</th>\n",
        "      <th>delta</th>\n",
        "    </tr>\n",
        "  </thead>\n",
        "  <tbody>\n",
        "    <tr>\n",
        "      <th>churn</th>\n",
        "      <td> 1.000000</td>\n",
        "      <td> 0.048028</td>\n",
        "    </tr>\n",
        "    <tr>\n",
        "      <th>delta</th>\n",
        "      <td> 0.048028</td>\n",
        "      <td> 1.000000</td>\n",
        "    </tr>\n",
        "  </tbody>\n",
        "</table>\n",
        "</div>"
       ],
       "metadata": {},
       "output_type": "pyout",
       "prompt_number": 15,
       "text": [
        "          churn     delta\n",
        "churn  1.000000  0.048028\n",
        "delta  0.048028  1.000000"
       ]
      }
     ],
     "prompt_number": 15
    },
    {
     "cell_type": "markdown",
     "metadata": {},
     "source": [
      "There's almost no correlation, and the correlation that is there is probably just noise. Should we conclude that the number of files that you change in a pull request doesn't affect how long it will take to be reviewed? I don't think so, for two reasons:\n",
      "\n",
      "1. I'm completely ignoring pull requests that get ignored or closed. My professor has looked at [how long it takes patches to get accepted on large open source projects like linux](https://research.microsoft.com/apps/pubs/default.aspx?id=193432) and he found that on certain projects like Linux, large patches were ignored or rejected. No one had time to understand them and review them. This might be the case for IPython. (Does anybody from the IPython project think this is true?)\n",
      "2. I'm only processing the tip of the pull request branch. A pull request can have many commits, and I should incorporate those into my churn metric."
     ]
    },
    {
     "cell_type": "markdown",
     "metadata": {},
     "source": [
      "I didn't really make any claims here, but let's pretend this is a real paper.\n",
      "\n",
      "## Threats to Validity\n",
      "\n",
      "1. It is 1am on a Friday night.\n",
      "2. The churn metric only represents the tip (ha) of the pull request iceberg.\n",
      "3. This analysis doesn't look at how review time changed over time. Can we get a less skewed picture of pull request length by looking at only the period in which the project was funded?\n",
      "4. This analysis doesn't look at actual review time \u2014 the pull request could have been made much later than when the pull request commit was made.\n",
      "\n",
      "## Conclusions\n",
      "\n",
      "1. The IPython folks are very prompt. Send them a decent pull request and they'll probably merge it within a day.\n",
      "2. The IPython Notebook is pretty cool.\n",
      "\n",
      "## Updates\n",
      "\n",
      "A previous version of this notebook was incorrectly adding timezone differences to timestamps. After some experimentation, I've discovered that the timestamps provided by `git2json` don't need to be adjusted for timezone unless you want to display it in a human-readable format. Fixing this bug solved the \"time travel\" issue."
     ]
    }
   ],
   "metadata": {}
  }
 ]
}