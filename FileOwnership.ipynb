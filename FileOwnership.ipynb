{
 "metadata": {
  "name": ""
 },
 "nbformat": 3,
 "nbformat_minor": 0,
 "worksheets": [
  {
   "cells": [
    {
     "cell_type": "code",
     "collapsed": false,
     "input": [
      "import pandas as pd\n",
      "import json\n",
      "import itertools\n",
      "import collections\n",
      "import re\n",
      "import arrow\n",
      "rcParams['figure.figsize'] = (15, 3)\n",
      "pd.set_option('display.mpl_style', 'default')"
     ],
     "language": "python",
     "metadata": {},
     "outputs": [],
     "prompt_number": 73
    },
    {
     "cell_type": "code",
     "collapsed": false,
     "input": [
      "def ownership_spread(col):\n",
      "    num = 1.0*len(col)\n",
      "    highest = max(col)\n",
      "    total = 1.*sum(col)\n",
      "    factor = highest/(total + 0.0001)\n",
      "    return factor\n",
      "\n",
      "def ownership_boxplot(path):\n",
      "    !git2json --git-dir={path} > sympy-log.json\n",
      "    f = open('sympy-log.json', 'rU')\n",
      "    log = json.loads(f.read().decode('utf-8', errors='replace'))\n",
      "    rows = list(itertools.chain.from_iterable([\n",
      "        [\n",
      "         [fname, commit['commit'], commit['author']['date'], commit['author']['name'], adds + dels]\n",
      "         for adds, dels, fname in commit['changes']\n",
      "         if re.match(r'.*(py|js|hs|java|php)$', fname)\n",
      "         if type(adds) == int and type(dels) == int\n",
      "         ]\n",
      "        for commit in log\n",
      "    ]))\n",
      "    df = pd.DataFrame(rows, columns=['fname', 'commit', 'date', 'author', 'churn'])\n",
      "\n",
      "    ownership = df[['fname', 'author', 'churn']].groupby(['fname', 'author']).aggregate(sum)\n",
      "    ownership.head()\n",
      "\n",
      "    rcParams['figure.figsize'] = (15, 2)\n",
      "    ownership_factor = ownership.groupby(level=0).aggregate(ownership_spread).sort('churn', ascending=False)\n",
      "    return ownership_factor.boxplot(vert=False)\n"
     ],
     "language": "python",
     "metadata": {},
     "outputs": [],
     "prompt_number": 189
    },
    {
     "cell_type": "code",
     "collapsed": false,
     "input": [
      "!git2json --git-dir=/home/tavish/code/sympy/.git > sympy-log.json"
     ],
     "language": "python",
     "metadata": {},
     "outputs": [],
     "prompt_number": 177
    },
    {
     "cell_type": "code",
     "collapsed": false,
     "input": [
      "f = open('sympy-log.json', 'rU')\n",
      "log = json.loads(f.read().decode('utf-8', errors='replace'))\n",
      "#log = json.load(f)\n",
      "print log[0]"
     ],
     "language": "python",
     "metadata": {},
     "outputs": [
      {
       "output_type": "stream",
       "stream": "stdout",
       "text": [
        "{u'committer': {u'date': 1380310562, u'timezone': u'-0700', u'name': u'Julien Rioux', u'email': u'julien.rioux@gmail.com'}, u'author': {u'date': 1380310562, u'timezone': u'-0700', u'name': u'Julien Rioux', u'email': u'julien.rioux@gmail.com'}, u'tree': u'272b673549dcc8b198510039105debb591d8e304', u'parents': [u'acddc1ba2d541385ebd6050da1a3136a86471d14', u'9c7864681e396794b392fabad55f34c562aa3640'], u'commit': u'997943e01abc97f63530982a6f5cbf9b72920117', u'message': u'Merge pull request #2483 from asmeurer/code_qualityFix the code quality tests in Python 3', u'changes': []}\n"
       ]
      }
     ],
     "prompt_number": 178
    },
    {
     "cell_type": "code",
     "collapsed": false,
     "input": [
      "rows = list(itertools.chain.from_iterable([\n",
      "    [\n",
      "     [fname, commit['commit'], commit['author']['date'], commit['author']['name'], adds + dels]\n",
      "     for adds, dels, fname in commit['changes']\n",
      "     if re.match(r'.*(py|js|hs|java|php)$', fname)\n",
      "     if type(adds) == int and type(dels) == int\n",
      "     ]\n",
      "    for commit in log\n",
      "]))\n"
     ],
     "language": "python",
     "metadata": {},
     "outputs": [],
     "prompt_number": 183
    },
    {
     "cell_type": "code",
     "collapsed": false,
     "input": [
      "df = pd.DataFrame(rows, columns=['fname', 'commit', 'date', 'author', 'churn'])\n",
      "df.head()"
     ],
     "language": "python",
     "metadata": {},
     "outputs": [
      {
       "html": [
        "<div style=\"max-height:1000px;max-width:1500px;overflow:auto;\">\n",
        "<table border=\"1\" class=\"dataframe\">\n",
        "  <thead>\n",
        "    <tr style=\"text-align: right;\">\n",
        "      <th></th>\n",
        "      <th>fname</th>\n",
        "      <th>commit</th>\n",
        "      <th>date</th>\n",
        "      <th>author</th>\n",
        "      <th>churn</th>\n",
        "    </tr>\n",
        "  </thead>\n",
        "  <tbody>\n",
        "    <tr>\n",
        "      <th>0</th>\n",
        "      <td>                 sympy/polys/factortools.py</td>\n",
        "      <td> 3889787dfd2489b4bb29346da994a4df8a345211</td>\n",
        "      <td> 1380096562</td>\n",
        "      <td>  Katja Sophie Hotz</td>\n",
        "      <td>  6</td>\n",
        "    </tr>\n",
        "    <tr>\n",
        "      <th>1</th>\n",
        "      <td>      sympy/polys/tests/test_factortools.py</td>\n",
        "      <td> 3889787dfd2489b4bb29346da994a4df8a345211</td>\n",
        "      <td> 1380096562</td>\n",
        "      <td>  Katja Sophie Hotz</td>\n",
        "      <td> 12</td>\n",
        "    </tr>\n",
        "    <tr>\n",
        "      <th>2</th>\n",
        "      <td> sympy/utilities/tests/test_code_quality.py</td>\n",
        "      <td> 9c7864681e396794b392fabad55f34c562aa3640</td>\n",
        "      <td> 1380069121</td>\n",
        "      <td>       Aaron Meurer</td>\n",
        "      <td>  2</td>\n",
        "    </tr>\n",
        "    <tr>\n",
        "      <th>3</th>\n",
        "      <td> sympy/utilities/tests/test_code_quality.py</td>\n",
        "      <td> 46c37e777d6c79a6a93d851a42c487094322eecf</td>\n",
        "      <td> 1380069088</td>\n",
        "      <td>       Aaron Meurer</td>\n",
        "      <td>  8</td>\n",
        "    </tr>\n",
        "    <tr>\n",
        "      <th>4</th>\n",
        "      <td>          sympy/series/tests/test_gruntz.py</td>\n",
        "      <td> 2aaab3f10dd575cedb1d3b70bf1f92df26469563</td>\n",
        "      <td> 1379597554</td>\n",
        "      <td> Sergey B Kirpichev</td>\n",
        "      <td>  6</td>\n",
        "    </tr>\n",
        "  </tbody>\n",
        "</table>\n",
        "</div>"
       ],
       "metadata": {},
       "output_type": "pyout",
       "prompt_number": 184,
       "text": [
        "                                        fname  \\\n",
        "0                  sympy/polys/factortools.py   \n",
        "1       sympy/polys/tests/test_factortools.py   \n",
        "2  sympy/utilities/tests/test_code_quality.py   \n",
        "3  sympy/utilities/tests/test_code_quality.py   \n",
        "4           sympy/series/tests/test_gruntz.py   \n",
        "\n",
        "                                     commit        date              author  \\\n",
        "0  3889787dfd2489b4bb29346da994a4df8a345211  1380096562   Katja Sophie Hotz   \n",
        "1  3889787dfd2489b4bb29346da994a4df8a345211  1380096562   Katja Sophie Hotz   \n",
        "2  9c7864681e396794b392fabad55f34c562aa3640  1380069121        Aaron Meurer   \n",
        "3  46c37e777d6c79a6a93d851a42c487094322eecf  1380069088        Aaron Meurer   \n",
        "4  2aaab3f10dd575cedb1d3b70bf1f92df26469563  1379597554  Sergey B Kirpichev   \n",
        "\n",
        "   churn  \n",
        "0      6  \n",
        "1     12  \n",
        "2      2  \n",
        "3      8  \n",
        "4      6  "
       ]
      }
     ],
     "prompt_number": 184
    },
    {
     "cell_type": "code",
     "collapsed": false,
     "input": [
      "def set_len(x):\n",
      "    return len(set(x))\n",
      "ownership = df[['fname', 'author', 'churn']].groupby(['fname', 'author']).aggregate(sum)\n",
      "ownership.head()"
     ],
     "language": "python",
     "metadata": {},
     "outputs": [
      {
       "html": [
        "<div style=\"max-height:1000px;max-width:1500px;overflow:auto;\">\n",
        "<table border=\"1\" class=\"dataframe\">\n",
        "  <thead>\n",
        "    <tr style=\"text-align: right;\">\n",
        "      <th></th>\n",
        "      <th></th>\n",
        "      <th>churn</th>\n",
        "    </tr>\n",
        "    <tr>\n",
        "      <th>fname</th>\n",
        "      <th>author</th>\n",
        "      <th></th>\n",
        "    </tr>\n",
        "  </thead>\n",
        "  <tbody>\n",
        "    <tr>\n",
        "      <th>benchmarks/bench_symbench.py</th>\n",
        "      <th>Kirill Smelkov</th>\n",
        "      <td> 242</td>\n",
        "    </tr>\n",
        "    <tr>\n",
        "      <th rowspan=\"2\" valign=\"top\">benchmarks/symbench.py</th>\n",
        "      <th>Kirill Smelkov</th>\n",
        "      <td> 242</td>\n",
        "    </tr>\n",
        "    <tr>\n",
        "      <th>Ondrej Certik</th>\n",
        "      <td>  18</td>\n",
        "    </tr>\n",
        "    <tr>\n",
        "      <th rowspan=\"2\" valign=\"top\">bin/adapt_paths.py</th>\n",
        "      <th>Julien Rioux</th>\n",
        "      <td>   4</td>\n",
        "    </tr>\n",
        "    <tr>\n",
        "      <th>Mateusz Paprocki</th>\n",
        "      <td>   2</td>\n",
        "    </tr>\n",
        "  </tbody>\n",
        "</table>\n",
        "</div>"
       ],
       "metadata": {},
       "output_type": "pyout",
       "prompt_number": 185,
       "text": [
        "                                               churn\n",
        "fname                        author                 \n",
        "benchmarks/bench_symbench.py Kirill Smelkov      242\n",
        "benchmarks/symbench.py       Kirill Smelkov      242\n",
        "                             Ondrej Certik        18\n",
        "bin/adapt_paths.py           Julien Rioux          4\n",
        "                             Mateusz Paprocki      2"
       ]
      }
     ],
     "prompt_number": 185
    },
    {
     "cell_type": "code",
     "collapsed": false,
     "input": [
      "def ownership_spread(col):\n",
      "\n",
      "    num = 1.0*len(col)\n",
      "    highest = max(col)\n",
      "    total = 1.*sum(col)\n",
      "    factor = highest/(total + 0.0001)\n",
      "    \n",
      "    return factor\n",
      "\n",
      "rcParams['figure.figsize'] = (15, 2)\n",
      "ownership_factor = ownership.groupby(level=0).aggregate(ownership_spread).sort('churn', ascending=False)\n",
      "ownership_factor.boxplot(vert=False)"
     ],
     "language": "python",
     "metadata": {},
     "outputs": [
      {
       "metadata": {},
       "output_type": "pyout",
       "prompt_number": 188,
       "text": [
        "{'boxes': [<matplotlib.lines.Line2D at 0x5b0f790>],\n",
        " 'caps': [<matplotlib.lines.Line2D at 0x5a9d390>,\n",
        "  <matplotlib.lines.Line2D at 0x5a9dd90>],\n",
        " 'fliers': [<matplotlib.lines.Line2D at 0x53a47d0>,\n",
        "  <matplotlib.lines.Line2D at 0x5458310>],\n",
        " 'medians': [<matplotlib.lines.Line2D at 0x5b0fe90>],\n",
        " 'whiskers': [<matplotlib.lines.Line2D at 0x5a2c5d0>,\n",
        "  <matplotlib.lines.Line2D at 0x5a2ca50>]}"
       ]
      },
      {
       "metadata": {},
       "output_type": "display_data",
       "png": "[encoded data removed]",
       "text": [
        "<matplotlib.figure.Figure at 0xe0dee90>"
       ]
      }
     ],
     "prompt_number": 188
    },
    {
     "cell_type": "code",
     "collapsed": false,
     "input": [
      "ownership_boxplot('/home/tavish/code/yesod/.git')"
     ],
     "language": "python",
     "metadata": {},
     "outputs": [
      {
       "metadata": {},
       "output_type": "pyout",
       "prompt_number": 190,
       "text": [
        "{'boxes': [<matplotlib.lines.Line2D at 0xbc16bd0>],\n",
        " 'caps': [<matplotlib.lines.Line2D at 0xbc161d0>,\n",
        "  <matplotlib.lines.Line2D at 0xbc166d0>],\n",
        " 'fliers': [<matplotlib.lines.Line2D at 0xbc515d0>,\n",
        "  <matplotlib.lines.Line2D at 0xbc51d50>],\n",
        " 'medians': [<matplotlib.lines.Line2D at 0xbc510d0>],\n",
        " 'whiskers': [<matplotlib.lines.Line2D at 0xc209a10>,\n",
        "  <matplotlib.lines.Line2D at 0xc209c50>]}"
       ]
      },
      {
       "metadata": {},
       "output_type": "display_data",
       "png": "[encoded data removed]",
       "text": [
        "<matplotlib.figure.Figure at 0xc18bfd0>"
       ]
      }
     ],
     "prompt_number": 190
    },
    {
     "cell_type": "code",
     "collapsed": false,
     "input": [
      "ownership_boxplot('/home/tavish/code/ipython/.git')"
     ],
     "language": "python",
     "metadata": {},
     "outputs": [
      {
       "metadata": {},
       "output_type": "pyout",
       "prompt_number": 191,
       "text": [
        "{'boxes': [<matplotlib.lines.Line2D at 0x1402bd50>],\n",
        " 'caps': [<matplotlib.lines.Line2D at 0x1402b390>,\n",
        "  <matplotlib.lines.Line2D at 0x1402b890>],\n",
        " 'fliers': [<matplotlib.lines.Line2D at 0x1402d790>,\n",
        "  <matplotlib.lines.Line2D at 0x1402df10>],\n",
        " 'medians': [<matplotlib.lines.Line2D at 0x1402d290>],\n",
        " 'whiskers': [<matplotlib.lines.Line2D at 0x14028bd0>,\n",
        "  <matplotlib.lines.Line2D at 0x14028e10>]}"
       ]
      },
      {
       "metadata": {},
       "output_type": "display_data",
       "png": "[encoded data removed]",
       "text": [
        "<matplotlib.figure.Figure at 0x59d8f10>"
       ]
      }
     ],
     "prompt_number": 191
    },
    {
     "cell_type": "code",
     "collapsed": false,
     "input": [
      "ownership_boxplot('/home/tavish/code/nose/.git')"
     ],
     "language": "python",
     "metadata": {},
     "outputs": [
      {
       "metadata": {},
       "output_type": "pyout",
       "prompt_number": 194,
       "text": [
        "{'boxes': [<matplotlib.lines.Line2D at 0xdb898d0>],\n",
        " 'caps': [<matplotlib.lines.Line2D at 0xdb7bed0>,\n",
        "  <matplotlib.lines.Line2D at 0xdb89410>],\n",
        " 'fliers': [<matplotlib.lines.Line2D at 0xba93310>,\n",
        "  <matplotlib.lines.Line2D at 0xba93a90>],\n",
        " 'medians': [<matplotlib.lines.Line2D at 0xdb89dd0>],\n",
        " 'whiskers': [<matplotlib.lines.Line2D at 0xdb7b750>,\n",
        "  <matplotlib.lines.Line2D at 0x1401e450>]}"
       ]
      },
      {
       "metadata": {},
       "output_type": "display_data",
       "png": "[encoded data removed]",
       "text": [
        "<matplotlib.figure.Figure at 0xc022c90>"
       ]
      }
     ],
     "prompt_number": 194
    },
    {
     "cell_type": "code",
     "collapsed": false,
     "input": [
      "ownership_boxplot('/home/tavish/code/sympy/.git')"
     ],
     "language": "python",
     "metadata": {},
     "outputs": [
      {
       "metadata": {},
       "output_type": "pyout",
       "prompt_number": 192,
       "text": [
        "{'boxes': [<matplotlib.lines.Line2D at 0x15afa210>],\n",
        " 'caps': [<matplotlib.lines.Line2D at 0x15a8c7d0>,\n",
        "  <matplotlib.lines.Line2D at 0x15a8ccd0>],\n",
        " 'fliers': [<matplotlib.lines.Line2D at 0x15afac10>,\n",
        "  <matplotlib.lines.Line2D at 0x15afc3d0>],\n",
        " 'medians': [<matplotlib.lines.Line2D at 0x15afa710>],\n",
        " 'whiskers': [<matplotlib.lines.Line2D at 0x15a8c090>,\n",
        "  <matplotlib.lines.Line2D at 0xe1689d0>]}"
       ]
      },
      {
       "metadata": {},
       "output_type": "display_data",
       "png": "[encoded data removed]",
       "text": [
        "<matplotlib.figure.Figure at 0x152a1f10>"
       ]
      }
     ],
     "prompt_number": 192
    },
    {
     "cell_type": "code",
     "collapsed": false,
     "input": [
      "ownership_boxplot('/home/tavish/code/phergie/.git')"
     ],
     "language": "python",
     "metadata": {},
     "outputs": [
      {
       "metadata": {},
       "output_type": "pyout",
       "prompt_number": 193,
       "text": [
        "{'boxes': [<matplotlib.lines.Line2D at 0xc9ac850>],\n",
        " 'caps': [<matplotlib.lines.Line2D at 0xcf7ce50>,\n",
        "  <matplotlib.lines.Line2D at 0xc9ac390>],\n",
        " 'fliers': [<matplotlib.lines.Line2D at 0xea24a90>,\n",
        "  <matplotlib.lines.Line2D at 0xea24710>],\n",
        " 'medians': [<matplotlib.lines.Line2D at 0xc9acd50>],\n",
        " 'whiskers': [<matplotlib.lines.Line2D at 0xcf7c6d0>,\n",
        "  <matplotlib.lines.Line2D at 0x54e77d0>]}"
       ]
      },
      {
       "metadata": {},
       "output_type": "display_data",
       "png": "[encoded data removed]",
       "text": [
        "<matplotlib.figure.Figure at 0x15a76c90>"
       ]
      }
     ],
     "prompt_number": 193
    },
    {
     "cell_type": "code",
     "collapsed": false,
     "input": [
      "ownership_boxplot('/home/tavish/school/archive/minicap/fsts/.git')"
     ],
     "language": "python",
     "metadata": {},
     "outputs": [
      {
       "metadata": {},
       "output_type": "pyout",
       "prompt_number": 195,
       "text": [
        "{'boxes': [<matplotlib.lines.Line2D at 0xd079890>],\n",
        " 'caps': [<matplotlib.lines.Line2D at 0xd65ee90>,\n",
        "  <matplotlib.lines.Line2D at 0xd0793d0>],\n",
        " 'fliers': [<matplotlib.lines.Line2D at 0xd0562d0>,\n",
        "  <matplotlib.lines.Line2D at 0xd056a50>],\n",
        " 'medians': [<matplotlib.lines.Line2D at 0xd079d90>],\n",
        " 'whiskers': [<matplotlib.lines.Line2D at 0xd65e710>,\n",
        "  <matplotlib.lines.Line2D at 0x90b6dd0>]}"
       ]
      },
      {
       "metadata": {},
       "output_type": "display_data",
       "png": "[encoded data removed]",
       "text": [
        "<matplotlib.figure.Figure at 0xad01350>"
       ]
      }
     ],
     "prompt_number": 195
    }
   ],
   "metadata": {}
  }
 ]
}